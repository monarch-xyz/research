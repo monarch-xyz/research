{
 "cells": [
  {
   "cell_type": "markdown",
   "metadata": {},
   "source": [
    "# Morpho Strategy Comparison\n",
    "\n",
    "This notebook compares the performance of Morpho supply rates against various ERC4626 vaults for USDC."
   ]
  },
  {
   "cell_type": "code",
   "execution_count": null,
   "metadata": {},
   "source": [
    "import sys\n",
    "sys.path.append('..')\n",
    "\n",
    "from src.backtest_strategy import LendingStrategyBacktester\n",
    "from src.config import BACKTEST_CONFIG, VAULTS\n",
    "import matplotlib.pyplot as plt\n",
    "%matplotlib inline"
   ]
  },
  {
   "cell_type": "markdown",
   "metadata": {},
   "source": [
    "## Setup Backtester"
   ]
  },
  {
   "cell_type": "code",
   "execution_count": null,
   "metadata": {},
   "source": [
    "# Initialize backtester\n",
    "backtester = LendingStrategyBacktester()\n",
    "\n",
    "# For testing, we'll use a small set of blocks\n",
    "# You should replace these with actual block numbers from your period of interest\n",
    "test_blocks = list(range(17500000, 17500100, 10))  # Example block range"
   ]
  },
  {
   "cell_type": "markdown",
   "metadata": {},
   "source": [
    "## Run Strategy Comparison"
   ]
  },
  {
   "cell_type": "code",
   "execution_count": null,
   "metadata": {},
   "source": [
    "# Compare strategies\n",
    "results = backtester.compare_all_strategies(\n",
    "    asset_symbol='USDC',\n",
    "    block_numbers=test_blocks,\n",
    "    start_date=BACKTEST_CONFIG['start_date'],\n",
    "    end_date=BACKTEST_CONFIG['end_date']\n",
    ")"
   ]
  },
  {
   "cell_type": "markdown",
   "metadata": {},
   "source": [
    "## Visualize Results"
   ]
  },
  {
   "cell_type": "code",
   "execution_count": null,
   "metadata": {},
   "source": [
    "# Plot performance comparison\n",
    "fig = backtester.plot_performance_comparison(results)\n",
    "plt.show()"
   ]
  },
  {
   "cell_type": "markdown",
   "metadata": {},
   "source": [
    "## Detailed Performance Metrics"
   ]
  },
  {
   "cell_type": "code",
   "execution_count": null,
   "metadata": {},
   "source": [
    "# Print detailed metrics\n",
    "for strategy, performance in results.items():\n",
    "    print(f\"\\n{strategy} Strategy Performance:\")\n",
    "    print(f\"Total Return: {performance['total_return']*100:.2f}%\")\n",
    "    print(f\"Sharpe Ratio: {performance['sharpe_ratio']:.2f}\")\n",
    "    print(f\"Max Drawdown: {performance['max_drawdown']*100:.2f}%\")"
   ]
  }
 ],
 "metadata": {
  "kernelspec": {
   "display_name": "Python 3",
   "language": "python",
   "name": "python3"
  },
  "language_info": {
   "codemirror_mode": {
    "name": "ipython",
    "version": 3
   },
   "file_extension": ".py",
   "mimetype": "text/x-python",
   "name": "python",
   "nbconvert_exporter": "python",
   "pygments_lexer": "ipython3",
   "version": "3.9.0"
  }
 },
 "nbformat": 4,
 "nbformat_minor": 4
}
