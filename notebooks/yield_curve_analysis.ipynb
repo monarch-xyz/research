{
 "cells": [
  {
   "cell_type": "markdown",
   "metadata": {},
   "source": [
    "# Vault Yield Curve Analysis\n",
    "\n",
    "This notebook analyzes and compares yield curves from different ERC4626 vaults."
   ]
  },
  {
   "cell_type": "code",
   "execution_count": null,
   "metadata": {},
   "source": [
    "import sys\n",
    "sys.path.append('..')\n",
    "\n",
    "from src.vault_data_fetcher import VaultDataFetcher\n",
    "from datetime import datetime, timedelta\n",
    "import matplotlib.pyplot as plt\n",
    "%matplotlib inline"
   ]
  },
  {
   "cell_type": "code",
   "execution_count": null,
   "metadata": {},
   "source": [
    "# Initialize fetcher\n",
    "fetcher = VaultDataFetcher()\n",
    "\n",
    "# Set date range for analysis\n",
    "start_date = '2024-01-01'  # Adjust these dates as needed\n",
    "end_date = '2024-02-01'\n",
    "interval_hours = 24  # Data points every 24 hours"
   ]
  },
  {
   "cell_type": "code",
   "execution_count": null,
   "metadata": {},
   "source": [
    "# Fetch and plot yield curves\n",
    "fig, vault_data = fetcher.plot_yield_curves(start_date, end_date, interval_hours)\n",
    "plt.show()"
   ]
  },
  {
   "cell_type": "code",
   "execution_count": null,
   "metadata": {},
   "source": [
    "# Print summary statistics\n",
    "for vault_name, df in vault_data.items():\n",
    "    print(f\"\\n{vault_name} Statistics:\")\n",
    "    if 'apy' in df.columns:\n",
    "        apy_stats = df['apy'].dropna() * 100  # Convert to percentage\n",
    "        print(f\"Average APY: {apy_stats.mean():.2f}%\")\n",
    "        print(f\"Min APY: {apy_stats.min():.2f}%\")\n",
    "        print(f\"Max APY: {apy_stats.max():.2f}%\")\n",
    "        print(f\"Current APY: {apy_stats.iloc[-1]:.2f}%\")"
   ]
  }
 ],
 "metadata": {
  "kernelspec": {
   "display_name": "Python 3",
   "language": "python",
   "name": "python3"
  },
  "language_info": {
   "codemirror_mode": {
    "name": "ipython",
    "version": 3
   },
   "file_extension": ".py",
   "mimetype": "text/x-python",
   "name": "python",
   "nbconvert_exporter": "python",
   "pygments_lexer": "ipython3",
   "version": "3.9.0"
  }
 },
 "nbformat": 4,
 "nbformat_minor": 4
}
