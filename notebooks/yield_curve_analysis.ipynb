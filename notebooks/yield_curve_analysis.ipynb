{
 "cells": [
  {
   "cell_type": "markdown",
   "metadata": {},
   "source": [
    "# Vault Yield Curve Analysis\n",
    "\n",
    "This notebook analyzes and compares yield curves from different ERC4626 vaults."
   ]
  },
  {
   "cell_type": "code",
   "execution_count": 1,
   "metadata": {},
   "outputs": [],
   "source": [
    "import sys\n",
    "sys.path.append('..')\n",
    "\n",
    "from src.vault_data_fetcher import VaultDataFetcher\n",
    "from datetime import datetime, timedelta\n",
    "import matplotlib.pyplot as plt\n",
    "%matplotlib inline"
   ]
  },
  {
   "cell_type": "code",
   "execution_count": 2,
   "metadata": {},
   "outputs": [],
   "source": [
    "# Initialize fetcher\n",
    "fetcher = VaultDataFetcher()\n",
    "\n",
    "# Set date range for analysis\n",
    "start_date = '2024-07-01'  # Adjust these dates as needed\n",
    "end_date = '2024-07-03'\n",
    "interval_hours = 24  # Data points every 24 hours"
   ]
  },
  {
   "cell_type": "code",
   "execution_count": 3,
   "metadata": {},
   "outputs": [
    {
     "ename": "AttributeError",
     "evalue": "'VaultDataFetcher' object has no attribute 'plot_yield_curves'",
     "output_type": "error",
     "traceback": [
      "\u001b[0;31m---------------------------------------------------------------------------\u001b[0m",
      "\u001b[0;31mAttributeError\u001b[0m                            Traceback (most recent call last)",
      "Cell \u001b[0;32mIn[3], line 2\u001b[0m\n\u001b[1;32m      1\u001b[0m \u001b[38;5;66;03m# Fetch and plot yield curves\u001b[39;00m\n\u001b[0;32m----> 2\u001b[0m fig, vault_data \u001b[38;5;241m=\u001b[39m \u001b[43mfetcher\u001b[49m\u001b[38;5;241;43m.\u001b[39;49m\u001b[43mplot_yield_curves\u001b[49m(start_date, end_date, interval_hours)\n\u001b[1;32m      3\u001b[0m plt\u001b[38;5;241m.\u001b[39mshow()\n",
      "\u001b[0;31mAttributeError\u001b[0m: 'VaultDataFetcher' object has no attribute 'plot_yield_curves'"
     ]
    }
   ],
   "source": [
    "# Fetch and plot yield curves\n",
    "fig, vault_data = fetcher.plot_yield_curves(start_date, end_date, interval_hours)\n",
    "plt.show()"
   ]
  },
  {
   "cell_type": "code",
   "execution_count": null,
   "metadata": {},
   "outputs": [],
   "source": [
    "# Print summary statistics\n",
    "for vault_name, df in vault_data.items():\n",
    "    print(f\"\\n{vault_name} Statistics:\")\n",
    "    if 'apy' in df.columns:\n",
    "        apy_stats = df['apy'].dropna() * 100  # Convert to percentage\n",
    "        print(f\"Average APY: {apy_stats.mean():.2f}%\")\n",
    "        print(f\"Min APY: {apy_stats.min():.2f}%\")\n",
    "        print(f\"Max APY: {apy_stats.max():.2f}%\")\n",
    "        print(f\"Current APY: {apy_stats.iloc[-1]:.2f}%\")"
   ]
  }
 ],
 "metadata": {
  "kernelspec": {
   "display_name": "Python 3 (ipykernel)",
   "language": "python",
   "name": "python3"
  },
  "language_info": {
   "codemirror_mode": {
    "name": "ipython",
    "version": 3
   },
   "file_extension": ".py",
   "mimetype": "text/x-python",
   "name": "python",
   "nbconvert_exporter": "python",
   "pygments_lexer": "ipython3",
   "version": "3.10.10"
  }
 },
 "nbformat": 4,
 "nbformat_minor": 4
}
