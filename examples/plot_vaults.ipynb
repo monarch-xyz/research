{
 "cells": [
  {
   "cell_type": "markdown",
   "metadata": {},
   "source": [
    "# Plot Vault Share Prices\n",
    "This notebook demonstrates how to fetch and plot share prices for multiple vaults."
   ]
  },
  {
   "cell_type": "code",
   "execution_count": null,
   "metadata": {},
   "outputs": [],
   "source": [
    "import sys\n",
    "sys.path.append('../src')\n",
    "\n",
    "from fetcher import Fetcher\n",
    "from config import VAULTS\n",
    "from datetime import datetime, timedelta\n",
    "import matplotlib.pyplot as plt"
   ]
  },
  {
   "cell_type": "code",
   "execution_count": null,
   "metadata": {},
   "outputs": [],
   "source": [
    "# Create fetchers for each vault\n",
    "moonwell_fetcher = Fetcher(VAULTS['Moonwell'])\n",
    "gauntlet_fetcher = Fetcher(VAULTS['Gauntlet'])\n",
    "re7_fetcher = Fetcher(VAULTS['Re7'])"
   ]
  },
  {
   "cell_type": "code",
   "execution_count": null,
   "metadata": {},
   "outputs": [],
   "source": [
    "# Set time range\n",
    "end_date = datetime.now()\n",
    "start_date = end_date - timedelta(days=7)  # Last 7 days\n",
    "\n",
    "# Create figure\n",
    "fig, ax = plt.subplots(figsize=(12, 6))\n",
    "\n",
    "# Plot each vault (they will appear on the same axis)\n",
    "moonwell_fetcher.plot(start_date, end_date, interval_hours=12, ax=ax)\n",
    "gauntlet_fetcher.plot(start_date, end_date, interval_hours=12, ax=ax)\n",
    "re7_fetcher.plot(start_date, end_date, interval_hours=12, ax=ax)\n",
    "\n",
    "plt.title('Vault Share Prices Over Time')\n",
    "plt.tight_layout()\n",
    "plt.show()"
   ]
  }
 ],
 "metadata": {
  "kernelspec": {
   "display_name": "Python 3",
   "language": "python",
   "name": "python3"
  },
  "language_info": {
   "codemirror_mode": {
    "name": "ipython",
    "version": 3
   },
   "file_extension": ".py",
   "mimetype": "text/x-python",
   "name": "python",
   "nbconvert_exporter": "python",
   "pygments_lexer": "ipython3",
   "version": "3.8.0"
  }
 },
 "nbformat": 4,
 "nbformat_minor": 4
}
